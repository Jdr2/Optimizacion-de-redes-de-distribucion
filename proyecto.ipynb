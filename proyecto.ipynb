{
  "cells": [
    {
      "cell_type": "code",
      "execution_count": null,
      "metadata": {
        "id": "I3blK6LimqKM"
      },
      "outputs": [],
      "source": [
        "def VRP(Clientes,Volumen,Matriz_de_tiempo,capacidad,TiempoDeCarga,rampas):\n",
        "    import pandas as pd\n",
        "    import math\n",
        "    HorasL = 480 #8 Horas en min\n",
        "    Rampas = rampas\n",
        "    Rutas = []\n",
        "    Rendimientos = []\n",
        "    end = False\n",
        "    Numero_camiones = 1\n",
        "    while end == False:\n",
        "        T_ClienteMasCercano = 1000000\n",
        "        ClienteMasCercano = ''\n",
        "        clientesNovvisitados = []\n",
        "        Vol_clientesNovvisitados = []\n",
        "        Ruta = ['Depot']\n",
        "        Volumen_total = 0\n",
        "        TiempoTotal = math.ceil((Numero_camiones/Rampas)*TiempoDeCarga)\n",
        "        for cliente in range(len(Clientes)):\n",
        "            c = Clientes[cliente]\n",
        "            if Matriz_de_tiempo[c]['Depot']<T_ClienteMasCercano:\n",
        "                T_ClienteMasCercano = Matriz_de_tiempo[c]['Depot']\n",
        "                v = Volumen[cliente]\n",
        "                ClienteMasCercano = c\n",
        "        Ruta.append(ClienteMasCercano)\n",
        "        TiempoTotal+=T_ClienteMasCercano\n",
        "        Volumen_total+=v\n",
        "        for noVisitados in range(len(Clientes)):\n",
        "            if Clientes[noVisitados] != ClienteMasCercano:\n",
        "                clientesNovvisitados.append(Clientes[noVisitados])\n",
        "                Vol_clientesNovvisitados.append(Volumen[noVisitados])\n",
        "        condiciones = False\n",
        "        while condiciones == False :\n",
        "            Origen = Ruta[-1]\n",
        "            Destinos = []\n",
        "            for i in range(len(clientesNovvisitados)):\n",
        "                destino = clientesNovvisitados[i]\n",
        "                tiempo = Matriz_de_tiempo[destino][Origen]\n",
        "                regreso = Matriz_de_tiempo['Depot'][destino]\n",
        "                carga = Vol_clientesNovvisitados[i]\n",
        "                Destinos.append([destino,tiempo,carga,regreso])\n",
        "            lista_ordenada = sorted(Destinos, key=lambda x: x[1])\n",
        "            if lista_ordenada:\n",
        "                DestinoCercano = lista_ordenada[0][0]\n",
        "                TiempoaDestino = lista_ordenada[0][1]\n",
        "                CargaDestino = lista_ordenada[0][2]\n",
        "                TiempoRegreso = lista_ordenada[0][3]\n",
        "            else:\n",
        "                condiciones = True\n",
        "                continue\n",
        "            if (TiempoTotal+TiempoaDestino+TiempoRegreso)<=HorasL:\n",
        "                if CargaDestino+Volumen_total<=capacidad:\n",
        "                    Ruta.append(DestinoCercano)\n",
        "                    TiempoTotal+=TiempoaDestino\n",
        "                    Volumen_total+=CargaDestino\n",
        "                    RestantesC = []\n",
        "                    RestantesV = []\n",
        "                    for x in range(len(lista_ordenada)):\n",
        "                        if lista_ordenada[x][0]!=DestinoCercano:\n",
        "                            RestantesC.append(lista_ordenada[x][0])\n",
        "                            RestantesV.append(lista_ordenada[x][2])\n",
        "                    clientesNovvisitados = RestantesC\n",
        "                    Vol_clientesNovvisitados = RestantesV\n",
        "                    condiciones=False\n",
        "                else:\n",
        "                    condiciones=True\n",
        "            else:\n",
        "                condiciones=True\n",
        "        ultimoDestino = Ruta[-1]\n",
        "        TiempoaBodega = Matriz_de_tiempo['Depot'][ultimoDestino]\n",
        "        TiempoTotal +=TiempoaBodega\n",
        "        EspacioNoUtilizado = capacidad-Volumen_total\n",
        "        TiempoSobrante = HorasL-TiempoTotal\n",
        "        Rendimiento = [Numero_camiones,TiempoTotal,EspacioNoUtilizado,TiempoSobrante]\n",
        "        Rendimientos.append(Rendimiento)\n",
        "        Ruta.append('Depot')\n",
        "        Rutas.append(Ruta)\n",
        "        if len(clientesNovvisitados)>0:\n",
        "            Clientes = clientesNovvisitados\n",
        "            Volumen = Vol_clientesNovvisitados\n",
        "            Numero_camiones +=1\n",
        "            end = False\n",
        "        else:\n",
        "            end = True\n",
        "    columnasRendimiento = ['Ruta','Tiempo total de la ruta','Espacio sobrante del camion','Tiempo sobrante de la ruta']\n",
        "    df_rendimiento = pd.DataFrame(Rendimientos, columns=columnasRendimiento)\n",
        "    return Rutas,df_rendimiento.to_string(index=False)"
      ]
    },
    {
      "cell_type": "code",
      "execution_count": null,
      "metadata": {
        "id": "k8XzAUMmmqKX"
      },
      "outputs": [],
      "source": [
        "def imprimirRutas(Rutas):\n",
        "    for i in range(len(Rutas)):\n",
        "        ruta_formateada = \"\"\n",
        "        for j in Rutas[i]:\n",
        "            ruta_formateada += f\"{j} ==> \"\n",
        "        ruta_formateada = ruta_formateada[:-5]\n",
        "        print(f'Ruta {i+1}')\n",
        "        print(ruta_formateada)\n",
        "        print()\n",
        "        print()"
      ]
    },
    {
      "cell_type": "code",
      "execution_count": null,
      "metadata": {
        "id": "SrQjr4gBmqKY",
        "outputId": "82153d56-3072-4437-a062-7cf45798f362"
      },
      "outputs": [
        {
          "name": "stdout",
          "output_type": "stream",
          "text": [
            "Ruta 1\n",
            "Depot ==> Cliente_5 ==> Cliente_3 ==> Depot\n",
            "\n",
            "\n",
            "Ruta 2\n",
            "Depot ==> Cliente_1 ==> Cliente_6 ==> Depot\n",
            "\n",
            "\n",
            "Ruta 3\n",
            "Depot ==> Cliente_4 ==> Depot\n",
            "\n",
            "\n",
            "Ruta 4\n",
            "Depot ==> Cliente_2 ==> Depot\n",
            "\n",
            "\n",
            " Ruta  Tiempo total de la ruta  Espacio sobrante del camion  Tiempo sobrante de la ruta\n",
            "    1                       87                           25                         393\n",
            "    2                      154                            4                         326\n",
            "    3                      216                            0                         264\n",
            "    4                      287                           26                         193\n"
          ]
        }
      ],
      "source": [
        "Clientes=['Cliente_1','Cliente_2','Cliente_3','Cliente_4','Cliente_5','Cliente_6']\n",
        "Volumen = [20,14,3,40,12,16]\n",
        "MaT = pd.read_csv(\"Matriz_de_tiempo.csv\",index_col=0)\n",
        "capacidad = 40\n",
        "TiempoCarga = 60\n",
        "rampas = 1\n",
        "Rutas, Rendimientos = VRP(Clientes,Volumen,MaT,capacidad,TiempoCarga,rampas)\n",
        "\n",
        "imprimirRutas(Rutas)\n",
        "print(Rendimientos)"
      ]
    }
  ],
  "metadata": {
    "kernelspec": {
      "display_name": "py",
      "language": "python",
      "name": "python3"
    },
    "language_info": {
      "codemirror_mode": {
        "name": "ipython",
        "version": 3
      },
      "file_extension": ".py",
      "mimetype": "text/x-python",
      "name": "python",
      "nbconvert_exporter": "python",
      "pygments_lexer": "ipython3",
      "version": "3.11.4"
    },
    "orig_nbformat": 4,
    "colab": {
      "provenance": []
    }
  },
  "nbformat": 4,
  "nbformat_minor": 0
}